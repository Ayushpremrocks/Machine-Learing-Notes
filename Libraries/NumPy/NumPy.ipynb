{
  "nbformat": 4,
  "nbformat_minor": 0,
  "metadata": {
    "colab": {
      "provenance": []
    },
    "kernelspec": {
      "name": "python3",
      "display_name": "Python 3"
    },
    "language_info": {
      "name": "python"
    }
  },
  "cells": [
    {
      "cell_type": "markdown",
      "source": [
        "# Numpy\n",
        "  - NumPy is a multi-dimensional array library\n",
        "  - it is faster than lists\n",
        "  - it uses fixed type\n",
        "  - it is faster to read as it uses less bytes of memory\n",
        "  - no type checking when iterating through objects\n",
        "  - numpy uses contiguous memory\n",
        "    benefits\n",
        "    - SIMD vector processing\n",
        "    - Effective cache utilization\n",
        "\n",
        "  - applications\n",
        "    - mathematics (MATLAB replacement)\n",
        "    - plotting (matplotlib)\n",
        "    - backend (pandas, connect 4, digital photography)\n",
        "    - machine learning"
      ],
      "metadata": {
        "id": "42RoQ7pCNMLW"
      }
    },
    {
      "cell_type": "markdown",
      "source": [
        "YT video: https://youtu.be/QUT1VHiLmmI?si=Ema9OrDFDxCCIswj"
      ],
      "metadata": {
        "id": "JkI2bPEiW_6b"
      }
    },
    {
      "cell_type": "markdown",
      "source": [
        "# Installing NumPy"
      ],
      "metadata": {
        "id": "kjZCfT3hJIsG"
      }
    },
    {
      "cell_type": "code",
      "source": [
        "pip install numpy"
      ],
      "metadata": {
        "colab": {
          "base_uri": "https://localhost:8080/"
        },
        "id": "VeAs7EP3gKjO",
        "outputId": "d94eb110-b89e-42ac-8968-9e3e9a96455b"
      },
      "execution_count": 277,
      "outputs": [
        {
          "output_type": "stream",
          "name": "stdout",
          "text": [
            "Requirement already satisfied: numpy in /usr/local/lib/python3.10/dist-packages (1.26.4)\n"
          ]
        }
      ]
    },
    {
      "cell_type": "markdown",
      "source": [
        "# Loading NumPy"
      ],
      "metadata": {
        "id": "lGaUvrEsJML6"
      }
    },
    {
      "cell_type": "code",
      "execution_count": 278,
      "metadata": {
        "id": "D_Ui_0pdczll"
      },
      "outputs": [],
      "source": [
        "import numpy as np\n",
        "import sys"
      ]
    },
    {
      "cell_type": "markdown",
      "source": [
        "# Basics"
      ],
      "metadata": {
        "id": "30K8kazqgfSd"
      }
    },
    {
      "cell_type": "markdown",
      "source": [
        "1-D array"
      ],
      "metadata": {
        "id": "QQrWzWu6NgBC"
      }
    },
    {
      "cell_type": "code",
      "source": [
        "# 1-D array\n",
        "a= np.array([1,2,3])\n",
        "print(a)"
      ],
      "metadata": {
        "colab": {
          "base_uri": "https://localhost:8080/"
        },
        "id": "veILgT9igglv",
        "outputId": "2086e4ed-00ed-436b-a8ae-de6c3fc202e6"
      },
      "execution_count": 279,
      "outputs": [
        {
          "output_type": "stream",
          "name": "stdout",
          "text": [
            "[1 2 3]\n"
          ]
        }
      ]
    },
    {
      "cell_type": "markdown",
      "source": [
        "2-D array"
      ],
      "metadata": {
        "id": "gt3GrLlYNqDJ"
      }
    },
    {
      "cell_type": "code",
      "source": [
        "# 2-D array\n",
        "b= np.array([[1,2,3],[4,5,6]])\n",
        "print(b)"
      ],
      "metadata": {
        "colab": {
          "base_uri": "https://localhost:8080/"
        },
        "id": "ietCUFlKgg8Z",
        "outputId": "51020ce7-19c9-4b87-e7d1-3a01fe199454"
      },
      "execution_count": 280,
      "outputs": [
        {
          "output_type": "stream",
          "name": "stdout",
          "text": [
            "[[1 2 3]\n",
            " [4 5 6]]\n"
          ]
        }
      ]
    },
    {
      "cell_type": "markdown",
      "source": [
        "Get dimension"
      ],
      "metadata": {
        "id": "RTH-0NXANsut"
      }
    },
    {
      "cell_type": "code",
      "source": [
        "#get dimension\n",
        "print(a.ndim)\n",
        "print(b.ndim)"
      ],
      "metadata": {
        "colab": {
          "base_uri": "https://localhost:8080/"
        },
        "id": "8cOYGkW0mNk0",
        "outputId": "7cdc5cb0-043b-426b-b19d-ef6339976f86"
      },
      "execution_count": 281,
      "outputs": [
        {
          "output_type": "stream",
          "name": "stdout",
          "text": [
            "1\n",
            "2\n"
          ]
        }
      ]
    },
    {
      "cell_type": "markdown",
      "source": [
        "Getting shape"
      ],
      "metadata": {
        "id": "QlEd39XLN_td"
      }
    },
    {
      "cell_type": "code",
      "source": [
        "#get shape\n",
        "print(a.shape)\n",
        "print(b.shape)"
      ],
      "metadata": {
        "colab": {
          "base_uri": "https://localhost:8080/"
        },
        "id": "X6f9YaGbFFpx",
        "outputId": "68553b48-7b70-4322-b764-0881604868ac"
      },
      "execution_count": 282,
      "outputs": [
        {
          "output_type": "stream",
          "name": "stdout",
          "text": [
            "(3,)\n",
            "(2, 3)\n"
          ]
        }
      ]
    },
    {
      "cell_type": "markdown",
      "source": [
        "Getting type"
      ],
      "metadata": {
        "id": "kZuu0jOaODIo"
      }
    },
    {
      "cell_type": "code",
      "source": [
        "#get type\n",
        "print(a.dtype)\n",
        "print(b.dtype)"
      ],
      "metadata": {
        "colab": {
          "base_uri": "https://localhost:8080/"
        },
        "id": "xgi8siYVmSQP",
        "outputId": "7b8e9cb0-c819-4b35-8316-99197d34178f"
      },
      "execution_count": 283,
      "outputs": [
        {
          "output_type": "stream",
          "name": "stdout",
          "text": [
            "int64\n",
            "int64\n"
          ]
        }
      ]
    },
    {
      "cell_type": "markdown",
      "source": [
        "Getting size"
      ],
      "metadata": {
        "id": "3SyifdDoOGFB"
      }
    },
    {
      "cell_type": "code",
      "source": [
        "#get size\n",
        "print(a.itemsize)\n",
        "print(b.itemsize)"
      ],
      "metadata": {
        "colab": {
          "base_uri": "https://localhost:8080/"
        },
        "id": "4vtUmdl7mdFR",
        "outputId": "a4fb588b-026c-4089-aaba-9e10666a80f3"
      },
      "execution_count": 284,
      "outputs": [
        {
          "output_type": "stream",
          "name": "stdout",
          "text": [
            "8\n",
            "8\n"
          ]
        }
      ]
    },
    {
      "cell_type": "markdown",
      "source": [
        "Total Size"
      ],
      "metadata": {
        "id": "FVENvFV5OIe1"
      }
    },
    {
      "cell_type": "code",
      "source": [
        "# total size (a.size*a.itemsize)\n",
        "print(a.nbytes)\n",
        "print(b.nbytes)"
      ],
      "metadata": {
        "colab": {
          "base_uri": "https://localhost:8080/"
        },
        "id": "NlK8R2gBmhQR",
        "outputId": "c21102dd-bd9d-42dc-fb6e-bbb3447ba3c5"
      },
      "execution_count": 285,
      "outputs": [
        {
          "output_type": "stream",
          "name": "stdout",
          "text": [
            "24\n",
            "48\n"
          ]
        }
      ]
    },
    {
      "cell_type": "markdown",
      "source": [
        "Getting total no of elements"
      ],
      "metadata": {
        "id": "4zzh16GOOKVq"
      }
    },
    {
      "cell_type": "code",
      "source": [
        "#get number of elements\n",
        "print(a.size)\n",
        "print(b.size)"
      ],
      "metadata": {
        "colab": {
          "base_uri": "https://localhost:8080/"
        },
        "id": "DINgYQ6VFOBR",
        "outputId": "a98ae6fd-07ce-40d4-c981-9591916785ed"
      },
      "execution_count": 286,
      "outputs": [
        {
          "output_type": "stream",
          "name": "stdout",
          "text": [
            "3\n",
            "6\n"
          ]
        }
      ]
    },
    {
      "cell_type": "markdown",
      "source": [
        "# Accessing/changing specific elements, rows, columns, etc bold text"
      ],
      "metadata": {
        "id": "XbGspuibmLfq"
      }
    },
    {
      "cell_type": "code",
      "source": [
        "a = np.array([[1,2,3,4,5,6,7,8,9,10],[11,12,13,14,15,16,17,18,19,20]])\n",
        "print(a)"
      ],
      "metadata": {
        "colab": {
          "base_uri": "https://localhost:8080/"
        },
        "id": "vqbH3ZsFgeza",
        "outputId": "6b535333-a7c8-40ab-b0f7-b8d62ffe3e1a"
      },
      "execution_count": 287,
      "outputs": [
        {
          "output_type": "stream",
          "name": "stdout",
          "text": [
            "[[ 1  2  3  4  5  6  7  8  9 10]\n",
            " [11 12 13 14 15 16 17 18 19 20]]\n"
          ]
        }
      ]
    },
    {
      "cell_type": "markdown",
      "source": [
        "Getting a specific element [row,column]"
      ],
      "metadata": {
        "id": "7aQqdW9HOlgz"
      }
    },
    {
      "cell_type": "code",
      "source": [
        "#get a specific element [r,c]\n",
        "a[1,7]"
      ],
      "metadata": {
        "colab": {
          "base_uri": "https://localhost:8080/"
        },
        "id": "vky5XzeAFe0M",
        "outputId": "25c26c88-3260-4d9b-d26e-bb49e2c9c9d6"
      },
      "execution_count": 288,
      "outputs": [
        {
          "output_type": "execute_result",
          "data": {
            "text/plain": [
              "18"
            ]
          },
          "metadata": {},
          "execution_count": 288
        }
      ]
    },
    {
      "cell_type": "markdown",
      "source": [
        "Getting a specific row"
      ],
      "metadata": {
        "id": "azwCIOAPOqOv"
      }
    },
    {
      "cell_type": "code",
      "source": [
        "#get a specific row\n",
        "a[1,:]"
      ],
      "metadata": {
        "colab": {
          "base_uri": "https://localhost:8080/"
        },
        "id": "doLJ9wV2dQM2",
        "outputId": "db51fba9-bb30-4a8f-ca6a-ddfff871cfcf"
      },
      "execution_count": 289,
      "outputs": [
        {
          "output_type": "execute_result",
          "data": {
            "text/plain": [
              "array([11, 12, 13, 14, 15, 16, 17, 18, 19, 20])"
            ]
          },
          "metadata": {},
          "execution_count": 289
        }
      ]
    },
    {
      "cell_type": "markdown",
      "source": [
        "Getting a specific colimn"
      ],
      "metadata": {
        "id": "akPbkVJCOtbs"
      }
    },
    {
      "cell_type": "code",
      "source": [
        "#get a specific column\n",
        "a[:,4]"
      ],
      "metadata": {
        "id": "vgorI6p8Fp7o",
        "colab": {
          "base_uri": "https://localhost:8080/"
        },
        "outputId": "0dea337d-bbeb-461a-baaa-f9ff0577149b"
      },
      "execution_count": 290,
      "outputs": [
        {
          "output_type": "execute_result",
          "data": {
            "text/plain": [
              "array([ 5, 15])"
            ]
          },
          "metadata": {},
          "execution_count": 290
        }
      ]
    },
    {
      "cell_type": "markdown",
      "source": [
        "Step size [start index: stop index: step size]"
      ],
      "metadata": {
        "id": "GGQb-I_nO1th"
      }
    },
    {
      "cell_type": "code",
      "source": [
        "#Step size [start index: stop index: step size]\n",
        "a[0,5:0:-2]"
      ],
      "metadata": {
        "colab": {
          "base_uri": "https://localhost:8080/"
        },
        "id": "GiD1xb3kjNs0",
        "outputId": "cb2b0b89-15e4-4608-87e1-3abec0e53bc0"
      },
      "execution_count": 291,
      "outputs": [
        {
          "output_type": "execute_result",
          "data": {
            "text/plain": [
              "array([6, 4, 2])"
            ]
          },
          "metadata": {},
          "execution_count": 291
        }
      ]
    },
    {
      "cell_type": "markdown",
      "source": [
        "changing an element"
      ],
      "metadata": {
        "id": "tg5jms3wPIoR"
      }
    },
    {
      "cell_type": "code",
      "source": [
        "# changing an element\n",
        "a[0,4] = 99\n",
        "a[:,7] = [100,200]\n",
        "print(a)"
      ],
      "metadata": {
        "colab": {
          "base_uri": "https://localhost:8080/"
        },
        "id": "NALJxikUjZZv",
        "outputId": "fe04b204-d2a3-4f84-f5c5-b033775e7bd5"
      },
      "execution_count": 292,
      "outputs": [
        {
          "output_type": "stream",
          "name": "stdout",
          "text": [
            "[[  1   2   3   4  99   6   7 100   9  10]\n",
            " [ 11  12  13  14  15  16  17 200  19  20]]\n"
          ]
        }
      ]
    },
    {
      "cell_type": "markdown",
      "source": [
        "3-d example"
      ],
      "metadata": {
        "id": "w8RIMx6Njn9D"
      }
    },
    {
      "cell_type": "code",
      "source": [
        "a = np.array([[[1,2],[3,4]],[[5,6],[7,8]]])\n",
        "print(a)"
      ],
      "metadata": {
        "colab": {
          "base_uri": "https://localhost:8080/"
        },
        "id": "9YTBMhUNjp1h",
        "outputId": "a172b89d-5989-4277-8131-a3be7e3d26e6"
      },
      "execution_count": 293,
      "outputs": [
        {
          "output_type": "stream",
          "name": "stdout",
          "text": [
            "[[[1 2]\n",
            "  [3 4]]\n",
            "\n",
            " [[5 6]\n",
            "  [7 8]]]\n"
          ]
        }
      ]
    },
    {
      "cell_type": "markdown",
      "source": [
        "Getting a specific element (work outside in)"
      ],
      "metadata": {
        "id": "30hDA0gBQD9E"
      }
    },
    {
      "cell_type": "code",
      "source": [
        "# Get specific element (work outside in)\n",
        "a[0,1,1]"
      ],
      "metadata": {
        "colab": {
          "base_uri": "https://localhost:8080/"
        },
        "id": "dBOx9Yzhkf2g",
        "outputId": "95005463-c303-4bfc-e408-f3f5eaa2dfe5"
      },
      "execution_count": 294,
      "outputs": [
        {
          "output_type": "execute_result",
          "data": {
            "text/plain": [
              "4"
            ]
          },
          "metadata": {},
          "execution_count": 294
        }
      ]
    },
    {
      "cell_type": "markdown",
      "source": [
        "Replacing an element"
      ],
      "metadata": {
        "id": "Ac7vfrYtQH_6"
      }
    },
    {
      "cell_type": "code",
      "source": [
        "#Replacing an element\n",
        "a[:,0,:] = [[00,00],[99,99]]\n",
        "print(a)"
      ],
      "metadata": {
        "id": "qSVtc7vvkfy_",
        "colab": {
          "base_uri": "https://localhost:8080/"
        },
        "outputId": "56cae95b-2ee5-4180-d1f3-dabbcf1c308b"
      },
      "execution_count": 295,
      "outputs": [
        {
          "output_type": "stream",
          "name": "stdout",
          "text": [
            "[[[ 0  0]\n",
            "  [ 3  4]]\n",
            "\n",
            " [[99 99]\n",
            "  [ 7  8]]]\n"
          ]
        }
      ]
    },
    {
      "cell_type": "markdown",
      "source": [
        "# Initializing different types of arrays"
      ],
      "metadata": {
        "id": "_enttuWyncH-"
      }
    },
    {
      "cell_type": "markdown",
      "source": [
        "Setting all zero matrix"
      ],
      "metadata": {
        "id": "DCXAk_l7SLpU"
      }
    },
    {
      "cell_type": "code",
      "source": [
        "# All 0s matrix\n",
        "np.zeros((2,3))"
      ],
      "metadata": {
        "colab": {
          "base_uri": "https://localhost:8080/"
        },
        "id": "6F6vEaymkfvD",
        "outputId": "d529b003-2be9-4ab1-9e0f-0582ff3b310e"
      },
      "execution_count": 297,
      "outputs": [
        {
          "output_type": "execute_result",
          "data": {
            "text/plain": [
              "array([[0., 0., 0.],\n",
              "       [0., 0., 0.]])"
            ]
          },
          "metadata": {},
          "execution_count": 297
        }
      ]
    },
    {
      "cell_type": "code",
      "source": [
        "# All 0s matrix\n",
        "np.zeros((2,3,4))"
      ],
      "metadata": {
        "colab": {
          "base_uri": "https://localhost:8080/"
        },
        "id": "oZciYEBekfsz",
        "outputId": "26bb859d-4095-4dd9-e56f-bd9d21fb0d79"
      },
      "execution_count": 298,
      "outputs": [
        {
          "output_type": "execute_result",
          "data": {
            "text/plain": [
              "array([[[0., 0., 0., 0.],\n",
              "        [0., 0., 0., 0.],\n",
              "        [0., 0., 0., 0.]],\n",
              "\n",
              "       [[0., 0., 0., 0.],\n",
              "        [0., 0., 0., 0.],\n",
              "        [0., 0., 0., 0.]]])"
            ]
          },
          "metadata": {},
          "execution_count": 298
        }
      ]
    },
    {
      "cell_type": "code",
      "source": [
        "# All 0s matrix\n",
        "np.zeros((2,3,4,5))"
      ],
      "metadata": {
        "colab": {
          "base_uri": "https://localhost:8080/"
        },
        "id": "U-C6bjwlkfqN",
        "outputId": "0a6043d3-aee9-409d-bb03-fa4a5b2a3a70"
      },
      "execution_count": 299,
      "outputs": [
        {
          "output_type": "execute_result",
          "data": {
            "text/plain": [
              "array([[[[0., 0., 0., 0., 0.],\n",
              "         [0., 0., 0., 0., 0.],\n",
              "         [0., 0., 0., 0., 0.],\n",
              "         [0., 0., 0., 0., 0.]],\n",
              "\n",
              "        [[0., 0., 0., 0., 0.],\n",
              "         [0., 0., 0., 0., 0.],\n",
              "         [0., 0., 0., 0., 0.],\n",
              "         [0., 0., 0., 0., 0.]],\n",
              "\n",
              "        [[0., 0., 0., 0., 0.],\n",
              "         [0., 0., 0., 0., 0.],\n",
              "         [0., 0., 0., 0., 0.],\n",
              "         [0., 0., 0., 0., 0.]]],\n",
              "\n",
              "\n",
              "       [[[0., 0., 0., 0., 0.],\n",
              "         [0., 0., 0., 0., 0.],\n",
              "         [0., 0., 0., 0., 0.],\n",
              "         [0., 0., 0., 0., 0.]],\n",
              "\n",
              "        [[0., 0., 0., 0., 0.],\n",
              "         [0., 0., 0., 0., 0.],\n",
              "         [0., 0., 0., 0., 0.],\n",
              "         [0., 0., 0., 0., 0.]],\n",
              "\n",
              "        [[0., 0., 0., 0., 0.],\n",
              "         [0., 0., 0., 0., 0.],\n",
              "         [0., 0., 0., 0., 0.],\n",
              "         [0., 0., 0., 0., 0.]]]])"
            ]
          },
          "metadata": {},
          "execution_count": 299
        }
      ]
    },
    {
      "cell_type": "markdown",
      "source": [
        "Setting all one matrix"
      ],
      "metadata": {
        "id": "0RHyR7ZtSU8B"
      }
    },
    {
      "cell_type": "code",
      "source": [
        "# All 1s matrix\n",
        "np.ones((4,3,3))"
      ],
      "metadata": {
        "colab": {
          "base_uri": "https://localhost:8080/"
        },
        "id": "lIp3GMhxnuFw",
        "outputId": "09e34c96-b600-435e-f3ee-4545733c79da"
      },
      "execution_count": 300,
      "outputs": [
        {
          "output_type": "execute_result",
          "data": {
            "text/plain": [
              "array([[[1., 1., 1.],\n",
              "        [1., 1., 1.],\n",
              "        [1., 1., 1.]],\n",
              "\n",
              "       [[1., 1., 1.],\n",
              "        [1., 1., 1.],\n",
              "        [1., 1., 1.]],\n",
              "\n",
              "       [[1., 1., 1.],\n",
              "        [1., 1., 1.],\n",
              "        [1., 1., 1.]],\n",
              "\n",
              "       [[1., 1., 1.],\n",
              "        [1., 1., 1.],\n",
              "        [1., 1., 1.]]])"
            ]
          },
          "metadata": {},
          "execution_count": 300
        }
      ]
    },
    {
      "cell_type": "code",
      "source": [
        "# All 1s matrix\n",
        "np.ones((4,3,3), dtype='int32')"
      ],
      "metadata": {
        "colab": {
          "base_uri": "https://localhost:8080/"
        },
        "id": "JgAoumVZoQ9a",
        "outputId": "424a421b-8abe-468f-8022-102ea0b3e567"
      },
      "execution_count": 301,
      "outputs": [
        {
          "output_type": "execute_result",
          "data": {
            "text/plain": [
              "array([[[1, 1, 1],\n",
              "        [1, 1, 1],\n",
              "        [1, 1, 1]],\n",
              "\n",
              "       [[1, 1, 1],\n",
              "        [1, 1, 1],\n",
              "        [1, 1, 1]],\n",
              "\n",
              "       [[1, 1, 1],\n",
              "        [1, 1, 1],\n",
              "        [1, 1, 1]],\n",
              "\n",
              "       [[1, 1, 1],\n",
              "        [1, 1, 1],\n",
              "        [1, 1, 1]]], dtype=int32)"
            ]
          },
          "metadata": {},
          "execution_count": 301
        }
      ]
    },
    {
      "cell_type": "markdown",
      "source": [
        "Setting all any number matrix"
      ],
      "metadata": {
        "id": "1-spiSkISY89"
      }
    },
    {
      "cell_type": "code",
      "source": [
        "# Any other number\n",
        "# ((rows,columns),element)\n",
        "np.full((10,10),10)"
      ],
      "metadata": {
        "colab": {
          "base_uri": "https://localhost:8080/"
        },
        "id": "-XcXObD-oXXB",
        "outputId": "c0649e97-7c8e-43bd-a29f-1dd8d52465cb"
      },
      "execution_count": 302,
      "outputs": [
        {
          "output_type": "execute_result",
          "data": {
            "text/plain": [
              "array([[10, 10, 10, 10, 10, 10, 10, 10, 10, 10],\n",
              "       [10, 10, 10, 10, 10, 10, 10, 10, 10, 10],\n",
              "       [10, 10, 10, 10, 10, 10, 10, 10, 10, 10],\n",
              "       [10, 10, 10, 10, 10, 10, 10, 10, 10, 10],\n",
              "       [10, 10, 10, 10, 10, 10, 10, 10, 10, 10],\n",
              "       [10, 10, 10, 10, 10, 10, 10, 10, 10, 10],\n",
              "       [10, 10, 10, 10, 10, 10, 10, 10, 10, 10],\n",
              "       [10, 10, 10, 10, 10, 10, 10, 10, 10, 10],\n",
              "       [10, 10, 10, 10, 10, 10, 10, 10, 10, 10],\n",
              "       [10, 10, 10, 10, 10, 10, 10, 10, 10, 10]])"
            ]
          },
          "metadata": {},
          "execution_count": 302
        }
      ]
    },
    {
      "cell_type": "code",
      "source": [
        "# Any other number (full_like)\n",
        "np.full_like(a, 4)"
      ],
      "metadata": {
        "colab": {
          "base_uri": "https://localhost:8080/"
        },
        "id": "zdX39yMEoiY2",
        "outputId": "0e874feb-61a5-47e4-b32b-2ca9b45a6902"
      },
      "execution_count": 303,
      "outputs": [
        {
          "output_type": "execute_result",
          "data": {
            "text/plain": [
              "array([[[4, 4],\n",
              "        [4, 4]],\n",
              "\n",
              "       [[4, 4],\n",
              "        [4, 4]]])"
            ]
          },
          "metadata": {},
          "execution_count": 303
        }
      ]
    },
    {
      "cell_type": "markdown",
      "source": [
        "Random decimal numbers"
      ],
      "metadata": {
        "id": "-cEZz0NyTvbi"
      }
    },
    {
      "cell_type": "code",
      "source": [
        "# Random decimal numbers\n",
        "np.random.rand(4,2,2)"
      ],
      "metadata": {
        "colab": {
          "base_uri": "https://localhost:8080/"
        },
        "id": "FtfmOicBo9-C",
        "outputId": "f5fd293d-26f5-4854-daa7-215c0b76fdf0"
      },
      "execution_count": 304,
      "outputs": [
        {
          "output_type": "execute_result",
          "data": {
            "text/plain": [
              "array([[[0.09157834, 0.85873687],\n",
              "        [0.84830297, 0.13762574]],\n",
              "\n",
              "       [[0.04281042, 0.43267205],\n",
              "        [0.85846597, 0.77623118]],\n",
              "\n",
              "       [[0.56111398, 0.20634772],\n",
              "        [0.78991036, 0.25249753]],\n",
              "\n",
              "       [[0.94000731, 0.60094387],\n",
              "        [0.50231032, 0.59898403]]])"
            ]
          },
          "metadata": {},
          "execution_count": 304
        }
      ]
    },
    {
      "cell_type": "markdown",
      "source": [
        "Random integer values"
      ],
      "metadata": {
        "id": "51jLw4myTycC"
      }
    },
    {
      "cell_type": "code",
      "source": [
        "# Random Integer values\n",
        "np.random.randint(-10,20, size=(3,3))"
      ],
      "metadata": {
        "colab": {
          "base_uri": "https://localhost:8080/"
        },
        "id": "9XukFSgxpEli",
        "outputId": "1ebcda53-0bf9-4421-f245-6cf8fe610def"
      },
      "execution_count": 305,
      "outputs": [
        {
          "output_type": "execute_result",
          "data": {
            "text/plain": [
              "array([[-2,  2, -7],\n",
              "       [ 3,  0, 15],\n",
              "       [ 2, 16, -4]])"
            ]
          },
          "metadata": {},
          "execution_count": 305
        }
      ]
    },
    {
      "cell_type": "markdown",
      "source": [
        "Identity Matrix"
      ],
      "metadata": {
        "id": "UfvjyIGTT19W"
      }
    },
    {
      "cell_type": "code",
      "source": [
        "# The identity matrix\n",
        "np.identity(4)"
      ],
      "metadata": {
        "colab": {
          "base_uri": "https://localhost:8080/"
        },
        "id": "lvGhIExNpHtS",
        "outputId": "7dcdc4cc-5e7b-420f-e6ff-4eee2ee9d45b"
      },
      "execution_count": 306,
      "outputs": [
        {
          "output_type": "execute_result",
          "data": {
            "text/plain": [
              "array([[1., 0., 0., 0.],\n",
              "       [0., 1., 0., 0.],\n",
              "       [0., 0., 1., 0.],\n",
              "       [0., 0., 0., 1.]])"
            ]
          },
          "metadata": {},
          "execution_count": 306
        }
      ]
    },
    {
      "cell_type": "markdown",
      "source": [
        "Repeating an array"
      ],
      "metadata": {
        "id": "WycjsGWSUFIt"
      }
    },
    {
      "cell_type": "code",
      "source": [
        "# Repeat an array\n",
        "arr = np.array([[1,2,3]])\n",
        "a = np.repeat(arr,3, axis=0)\n",
        "print(a)"
      ],
      "metadata": {
        "colab": {
          "base_uri": "https://localhost:8080/"
        },
        "id": "H287CcOzpKN-",
        "outputId": "08f28b1d-a328-4f40-8f6c-fd76f8de5d61"
      },
      "execution_count": 307,
      "outputs": [
        {
          "output_type": "stream",
          "name": "stdout",
          "text": [
            "[[1 2 3]\n",
            " [1 2 3]\n",
            " [1 2 3]]\n"
          ]
        }
      ]
    },
    {
      "cell_type": "code",
      "source": [
        "output = np.ones((5,5))\n",
        "print(output)\n",
        "\n",
        "z = np.zeros((3,3))\n",
        "z[1,1] = 3\n",
        "print(z)\n",
        "\n",
        "output[1:-1,1:-1] = z\n",
        "print(output)"
      ],
      "metadata": {
        "colab": {
          "base_uri": "https://localhost:8080/"
        },
        "id": "U6-U8_HFpN8R",
        "outputId": "583d3314-e7b5-49ab-93a1-c1174bfac180"
      },
      "execution_count": 308,
      "outputs": [
        {
          "output_type": "stream",
          "name": "stdout",
          "text": [
            "[[1. 1. 1. 1. 1.]\n",
            " [1. 1. 1. 1. 1.]\n",
            " [1. 1. 1. 1. 1.]\n",
            " [1. 1. 1. 1. 1.]\n",
            " [1. 1. 1. 1. 1.]]\n",
            "[[0. 0. 0.]\n",
            " [0. 3. 0.]\n",
            " [0. 0. 0.]]\n",
            "[[1. 1. 1. 1. 1.]\n",
            " [1. 0. 0. 0. 1.]\n",
            " [1. 0. 3. 0. 1.]\n",
            " [1. 0. 0. 0. 1.]\n",
            " [1. 1. 1. 1. 1.]]\n"
          ]
        }
      ]
    },
    {
      "cell_type": "markdown",
      "source": [
        "Copying array"
      ],
      "metadata": {
        "id": "e6vOjLraUcxW"
      }
    },
    {
      "cell_type": "code",
      "source": [
        "a = np.array([1,2,3])\n",
        "b = a.copy()\n",
        "b[0] = 100\n",
        "print(a)\n",
        "print(b)"
      ],
      "metadata": {
        "colab": {
          "base_uri": "https://localhost:8080/"
        },
        "id": "_TGQn-A3pSaC",
        "outputId": "5b21fc4c-591b-448e-8b5a-9caae47a3c56"
      },
      "execution_count": 309,
      "outputs": [
        {
          "output_type": "stream",
          "name": "stdout",
          "text": [
            "[1 2 3]\n",
            "[100   2   3]\n"
          ]
        }
      ]
    },
    {
      "cell_type": "markdown",
      "source": [
        "# Basic mathematics"
      ],
      "metadata": {
        "id": "9b_5mJoY7yjI"
      }
    },
    {
      "cell_type": "code",
      "source": [
        "a = np.array([1,2,3,4,5,6,7,8,9,10])\n",
        "print(a)"
      ],
      "metadata": {
        "colab": {
          "base_uri": "https://localhost:8080/"
        },
        "id": "ITCnvCP_7yIm",
        "outputId": "5d9f0d55-5a68-41e6-f453-20f51c0b1533"
      },
      "execution_count": 310,
      "outputs": [
        {
          "output_type": "stream",
          "name": "stdout",
          "text": [
            "[ 1  2  3  4  5  6  7  8  9 10]\n"
          ]
        }
      ]
    },
    {
      "cell_type": "code",
      "source": [
        "a+1"
      ],
      "metadata": {
        "colab": {
          "base_uri": "https://localhost:8080/"
        },
        "id": "agaYz5f1ESSI",
        "outputId": "7abd32ee-e67e-478e-e580-5145c6baa43c"
      },
      "execution_count": 311,
      "outputs": [
        {
          "output_type": "execute_result",
          "data": {
            "text/plain": [
              "array([ 2,  3,  4,  5,  6,  7,  8,  9, 10, 11])"
            ]
          },
          "metadata": {},
          "execution_count": 311
        }
      ]
    },
    {
      "cell_type": "code",
      "source": [
        "a-1"
      ],
      "metadata": {
        "colab": {
          "base_uri": "https://localhost:8080/"
        },
        "id": "f0OYwoSzFm-x",
        "outputId": "1cb29c49-85ea-432f-a084-eda2951a23d5"
      },
      "execution_count": 312,
      "outputs": [
        {
          "output_type": "execute_result",
          "data": {
            "text/plain": [
              "array([0, 1, 2, 3, 4, 5, 6, 7, 8, 9])"
            ]
          },
          "metadata": {},
          "execution_count": 312
        }
      ]
    },
    {
      "cell_type": "code",
      "source": [
        "a/2"
      ],
      "metadata": {
        "colab": {
          "base_uri": "https://localhost:8080/"
        },
        "id": "-rgfrHn_Fn-_",
        "outputId": "6393040f-53a2-4869-9fa6-f5ddfe158a6c"
      },
      "execution_count": 313,
      "outputs": [
        {
          "output_type": "execute_result",
          "data": {
            "text/plain": [
              "array([0.5, 1. , 1.5, 2. , 2.5, 3. , 3.5, 4. , 4.5, 5. ])"
            ]
          },
          "metadata": {},
          "execution_count": 313
        }
      ]
    },
    {
      "cell_type": "code",
      "source": [
        "b = np.array([1,0,1,0,1,0,1,0,1,0])\n",
        "a+b"
      ],
      "metadata": {
        "colab": {
          "base_uri": "https://localhost:8080/"
        },
        "id": "6EzFKrO5FpIv",
        "outputId": "fca2c322-9b2e-4e9f-b96b-e77daca93228"
      },
      "execution_count": 314,
      "outputs": [
        {
          "output_type": "execute_result",
          "data": {
            "text/plain": [
              "array([ 2,  2,  4,  4,  6,  6,  8,  8, 10, 10])"
            ]
          },
          "metadata": {},
          "execution_count": 314
        }
      ]
    },
    {
      "cell_type": "code",
      "source": [
        "a**2"
      ],
      "metadata": {
        "colab": {
          "base_uri": "https://localhost:8080/"
        },
        "id": "qrnNfO7cF1QR",
        "outputId": "eb2fec68-a82d-4ad2-9f47-d40607f41700"
      },
      "execution_count": 315,
      "outputs": [
        {
          "output_type": "execute_result",
          "data": {
            "text/plain": [
              "array([  1,   4,   9,  16,  25,  36,  49,  64,  81, 100])"
            ]
          },
          "metadata": {},
          "execution_count": 315
        }
      ]
    },
    {
      "cell_type": "code",
      "source": [
        "a**3"
      ],
      "metadata": {
        "colab": {
          "base_uri": "https://localhost:8080/"
        },
        "id": "jFL6G2mQF3UW",
        "outputId": "1f66c126-8600-4670-c62a-5c1ee775a24d"
      },
      "execution_count": 316,
      "outputs": [
        {
          "output_type": "execute_result",
          "data": {
            "text/plain": [
              "array([   1,    8,   27,   64,  125,  216,  343,  512,  729, 1000])"
            ]
          },
          "metadata": {},
          "execution_count": 316
        }
      ]
    },
    {
      "cell_type": "code",
      "source": [
        "np.sin(a)\n",
        "np.cos(a)"
      ],
      "metadata": {
        "colab": {
          "base_uri": "https://localhost:8080/"
        },
        "id": "uNnTgT67F5P1",
        "outputId": "c8509ce9-4cfc-4706-a038-66ae74a86ff1"
      },
      "execution_count": 317,
      "outputs": [
        {
          "output_type": "execute_result",
          "data": {
            "text/plain": [
              "array([ 0.54030231, -0.41614684, -0.9899925 , -0.65364362,  0.28366219,\n",
              "        0.96017029,  0.75390225, -0.14550003, -0.91113026, -0.83907153])"
            ]
          },
          "metadata": {},
          "execution_count": 317
        }
      ]
    },
    {
      "cell_type": "markdown",
      "source": [
        "# Linear algrebra"
      ],
      "metadata": {
        "id": "VdXitgOPGkUF"
      }
    },
    {
      "cell_type": "markdown",
      "source": [
        "Multiplying 2 matrices"
      ],
      "metadata": {
        "id": "Morm_1SNVQgu"
      }
    },
    {
      "cell_type": "code",
      "source": [
        "a = np.ones((2,3))\n",
        "print(a)\n",
        "\n",
        "b = np.full((3,2), 2)\n",
        "print(b)\n",
        "\n",
        "#multiplying 2 matrices\n",
        "np.matmul(a,b)"
      ],
      "metadata": {
        "colab": {
          "base_uri": "https://localhost:8080/"
        },
        "id": "Xk1fbaqfGl19",
        "outputId": "6c81ab5a-8417-4627-be12-51738dba2599"
      },
      "execution_count": 318,
      "outputs": [
        {
          "output_type": "stream",
          "name": "stdout",
          "text": [
            "[[1. 1. 1.]\n",
            " [1. 1. 1.]]\n",
            "[[2 2]\n",
            " [2 2]\n",
            " [2 2]]\n"
          ]
        },
        {
          "output_type": "execute_result",
          "data": {
            "text/plain": [
              "array([[6., 6.],\n",
              "       [6., 6.]])"
            ]
          },
          "metadata": {},
          "execution_count": 318
        }
      ]
    },
    {
      "cell_type": "markdown",
      "source": [
        "Finding determinant"
      ],
      "metadata": {
        "id": "571YqZrEVSEP"
      }
    },
    {
      "cell_type": "code",
      "source": [
        "# Find the determinant\n",
        "c = np.identity(3)\n",
        "np.linalg.det(c)"
      ],
      "metadata": {
        "colab": {
          "base_uri": "https://localhost:8080/"
        },
        "id": "0JB-QtNvHZMh",
        "outputId": "d06d4fde-946c-4296-a179-8fcfaf70aa62"
      },
      "execution_count": 319,
      "outputs": [
        {
          "output_type": "execute_result",
          "data": {
            "text/plain": [
              "1.0"
            ]
          },
          "metadata": {},
          "execution_count": 319
        }
      ]
    },
    {
      "cell_type": "markdown",
      "source": [
        "# Statisitics"
      ],
      "metadata": {
        "id": "Z-yreHvzHcxB"
      }
    },
    {
      "cell_type": "code",
      "source": [
        "stats = np.array([[1,2,3,4,5],[6,7,8,9,10]])\n",
        "stats"
      ],
      "metadata": {
        "colab": {
          "base_uri": "https://localhost:8080/"
        },
        "id": "JRI7otLuHfkq",
        "outputId": "510d56f0-dae0-4517-df36-a463fe480721"
      },
      "execution_count": 320,
      "outputs": [
        {
          "output_type": "execute_result",
          "data": {
            "text/plain": [
              "array([[ 1,  2,  3,  4,  5],\n",
              "       [ 6,  7,  8,  9, 10]])"
            ]
          },
          "metadata": {},
          "execution_count": 320
        }
      ]
    },
    {
      "cell_type": "markdown",
      "source": [
        "Minimum Value"
      ],
      "metadata": {
        "id": "TTER2jvmVs0d"
      }
    },
    {
      "cell_type": "code",
      "source": [
        "np.min(stats)"
      ],
      "metadata": {
        "colab": {
          "base_uri": "https://localhost:8080/"
        },
        "id": "KyfcqHxgHnK2",
        "outputId": "7abb21a1-5832-4e71-f578-a1f334668fe1"
      },
      "execution_count": 321,
      "outputs": [
        {
          "output_type": "execute_result",
          "data": {
            "text/plain": [
              "1"
            ]
          },
          "metadata": {},
          "execution_count": 321
        }
      ]
    },
    {
      "cell_type": "markdown",
      "source": [
        "Minimum Value in specifc row"
      ],
      "metadata": {
        "id": "HPU4kIO6VyTD"
      }
    },
    {
      "cell_type": "code",
      "source": [
        "np.min(stats, axis=1)"
      ],
      "metadata": {
        "colab": {
          "base_uri": "https://localhost:8080/"
        },
        "id": "G8oGaXdmHnHe",
        "outputId": "233d297c-dc43-4ddf-b6ec-f3dd5e9c5bcc"
      },
      "execution_count": 322,
      "outputs": [
        {
          "output_type": "execute_result",
          "data": {
            "text/plain": [
              "array([1, 6])"
            ]
          },
          "metadata": {},
          "execution_count": 322
        }
      ]
    },
    {
      "cell_type": "markdown",
      "source": [
        "Maximum Value"
      ],
      "metadata": {
        "id": "WxQzzeBYV0lF"
      }
    },
    {
      "cell_type": "code",
      "source": [
        "np.max(stats)"
      ],
      "metadata": {
        "colab": {
          "base_uri": "https://localhost:8080/"
        },
        "id": "oo5-cHk3HnFy",
        "outputId": "b98fcd75-7a5e-462e-f150-0aad74bd2a55"
      },
      "execution_count": 323,
      "outputs": [
        {
          "output_type": "execute_result",
          "data": {
            "text/plain": [
              "10"
            ]
          },
          "metadata": {},
          "execution_count": 323
        }
      ]
    },
    {
      "cell_type": "markdown",
      "source": [
        "Maximum Value in specific row"
      ],
      "metadata": {
        "id": "38G-0KhjV3Kj"
      }
    },
    {
      "cell_type": "code",
      "source": [
        "np.max(stats, axis=1)"
      ],
      "metadata": {
        "colab": {
          "base_uri": "https://localhost:8080/"
        },
        "id": "XblV_JNSHnDe",
        "outputId": "c33b7c37-304a-49be-f603-7ee0d378fcec"
      },
      "execution_count": 324,
      "outputs": [
        {
          "output_type": "execute_result",
          "data": {
            "text/plain": [
              "array([ 5, 10])"
            ]
          },
          "metadata": {},
          "execution_count": 324
        }
      ]
    },
    {
      "cell_type": "markdown",
      "source": [
        "Sum of all the elements"
      ],
      "metadata": {
        "id": "_v2a-zQhV70V"
      }
    },
    {
      "cell_type": "code",
      "source": [
        "np.sum(stats)"
      ],
      "metadata": {
        "colab": {
          "base_uri": "https://localhost:8080/"
        },
        "id": "BIq6vtH_HnBX",
        "outputId": "94bf093d-c59e-4f1d-d676-3058c408f375"
      },
      "execution_count": 325,
      "outputs": [
        {
          "output_type": "execute_result",
          "data": {
            "text/plain": [
              "55"
            ]
          },
          "metadata": {},
          "execution_count": 325
        }
      ]
    },
    {
      "cell_type": "markdown",
      "source": [
        "# Reorganizing arrays"
      ],
      "metadata": {
        "id": "Gs_clPuUH6A-"
      }
    },
    {
      "cell_type": "markdown",
      "source": [
        "Reshaping an array"
      ],
      "metadata": {
        "id": "4vOHTbFEWD8-"
      }
    },
    {
      "cell_type": "code",
      "source": [
        "before = np.array([[1,2,3,4],[5,6,7,8]])\n",
        "print(before)\n",
        "\n",
        "after = before.reshape((2,2,2))\n",
        "print(after)"
      ],
      "metadata": {
        "colab": {
          "base_uri": "https://localhost:8080/"
        },
        "id": "NqPJ23pwHm_Y",
        "outputId": "81547892-cb76-40dc-9420-04bd2d7a88c3"
      },
      "execution_count": 326,
      "outputs": [
        {
          "output_type": "stream",
          "name": "stdout",
          "text": [
            "[[1 2 3 4]\n",
            " [5 6 7 8]]\n",
            "[[[1 2]\n",
            "  [3 4]]\n",
            "\n",
            " [[5 6]\n",
            "  [7 8]]]\n"
          ]
        }
      ]
    },
    {
      "cell_type": "markdown",
      "source": [
        "Vertically stacking vectors"
      ],
      "metadata": {
        "id": "sQ4UJ5_6WG3v"
      }
    },
    {
      "cell_type": "code",
      "source": [
        "# Vertically stacking vectors\n",
        "v1 = np.array([1,2,3,4])\n",
        "v2 = np.array([5,6,7,8])\n",
        "\n",
        "np.vstack([v1,v2,v1,v2])"
      ],
      "metadata": {
        "colab": {
          "base_uri": "https://localhost:8080/"
        },
        "id": "rP5sFEwVHm9U",
        "outputId": "0514d323-5841-410c-915b-b0738688d125"
      },
      "execution_count": 327,
      "outputs": [
        {
          "output_type": "execute_result",
          "data": {
            "text/plain": [
              "array([[1, 2, 3, 4],\n",
              "       [5, 6, 7, 8],\n",
              "       [1, 2, 3, 4],\n",
              "       [5, 6, 7, 8]])"
            ]
          },
          "metadata": {},
          "execution_count": 327
        }
      ]
    },
    {
      "cell_type": "markdown",
      "source": [
        "Horizontally stacking vectors"
      ],
      "metadata": {
        "id": "TAtr7RW-WOi7"
      }
    },
    {
      "cell_type": "code",
      "source": [
        "# Horizontal  stack\n",
        "h1 = np.ones((2,4))\n",
        "h2 = np.zeros((2,2))\n",
        "\n",
        "np.hstack((h1,h2))"
      ],
      "metadata": {
        "colab": {
          "base_uri": "https://localhost:8080/"
        },
        "id": "NLYaR3yAHmqf",
        "outputId": "8e248d9a-ecb7-434c-9a85-88904cfb8ad9"
      },
      "execution_count": 328,
      "outputs": [
        {
          "output_type": "execute_result",
          "data": {
            "text/plain": [
              "array([[1., 1., 1., 1., 0., 0.],\n",
              "       [1., 1., 1., 1., 0., 0.]])"
            ]
          },
          "metadata": {},
          "execution_count": 328
        }
      ]
    },
    {
      "cell_type": "markdown",
      "source": [
        "# Miscellaneous"
      ],
      "metadata": {
        "id": "E1kFMunbIULy"
      }
    },
    {
      "cell_type": "markdown",
      "source": [
        "Loading data from file"
      ],
      "metadata": {
        "id": "MzfD-davIdQC"
      }
    },
    {
      "cell_type": "code",
      "source": [
        "filedata = np.genfromtxt('data.txt', delimiter=',')\n",
        "filedata = filedata.astype('int32')\n",
        "print(filedata)"
      ],
      "metadata": {
        "colab": {
          "base_uri": "https://localhost:8080/"
        },
        "id": "J_8fBMIBIVb7",
        "outputId": "a81a8402-6e90-4e3b-f374-398b66250fa1"
      },
      "execution_count": 329,
      "outputs": [
        {
          "output_type": "stream",
          "name": "stdout",
          "text": [
            "[[  1  13  21  11 196  75   4   3  34   6   7   8   0   1   2   3   4   5]\n",
            " [  3  42  12  33 766  75   4  55   6   4   3   4   5   6   7   0  11  12]\n",
            " [  1  22  33  11 999  11   2   1  78   0   1   2   9   8   7   1  76  88]]\n"
          ]
        }
      ]
    },
    {
      "cell_type": "markdown",
      "source": [
        "Boolean masking and advanced indexing"
      ],
      "metadata": {
        "id": "Xj40PQYJIhni"
      }
    },
    {
      "cell_type": "code",
      "source": [
        "filedata>50"
      ],
      "metadata": {
        "colab": {
          "base_uri": "https://localhost:8080/"
        },
        "id": "BdbUWBbFWmea",
        "outputId": "8448a7c7-13f1-42e8-caa7-4c61ae6175ec"
      },
      "execution_count": 331,
      "outputs": [
        {
          "output_type": "execute_result",
          "data": {
            "text/plain": [
              "array([[False, False, False, False,  True,  True, False, False, False,\n",
              "        False, False, False, False, False, False, False, False, False],\n",
              "       [False, False, False, False,  True,  True, False,  True, False,\n",
              "        False, False, False, False, False, False, False, False, False],\n",
              "       [False, False, False, False,  True, False, False, False,  True,\n",
              "        False, False, False, False, False, False, False,  True,  True]])"
            ]
          },
          "metadata": {},
          "execution_count": 331
        }
      ]
    },
    {
      "cell_type": "code",
      "source": [
        "filedata[filedata>50]"
      ],
      "metadata": {
        "colab": {
          "base_uri": "https://localhost:8080/"
        },
        "id": "zMy-5xFjWqOj",
        "outputId": "ef32a026-7a41-4852-b697-e8cb6a7dcf50"
      },
      "execution_count": 332,
      "outputs": [
        {
          "output_type": "execute_result",
          "data": {
            "text/plain": [
              "array([196,  75, 766,  75,  55, 999,  78,  76,  88], dtype=int32)"
            ]
          },
          "metadata": {},
          "execution_count": 332
        }
      ]
    },
    {
      "cell_type": "code",
      "source": [
        "(~((filedata > 50) & (filedata < 100)))"
      ],
      "metadata": {
        "colab": {
          "base_uri": "https://localhost:8080/"
        },
        "id": "TJwVJ0LFIV5O",
        "outputId": "a9277dde-0dc6-4b6c-bfbb-fdefcfb1d590"
      },
      "execution_count": 330,
      "outputs": [
        {
          "output_type": "execute_result",
          "data": {
            "text/plain": [
              "array([[ True,  True,  True,  True,  True, False,  True,  True,  True,\n",
              "         True,  True,  True,  True,  True,  True,  True,  True,  True],\n",
              "       [ True,  True,  True,  True,  True, False,  True, False,  True,\n",
              "         True,  True,  True,  True,  True,  True,  True,  True,  True],\n",
              "       [ True,  True,  True,  True,  True,  True,  True,  True, False,\n",
              "         True,  True,  True,  True,  True,  True,  True, False, False]])"
            ]
          },
          "metadata": {},
          "execution_count": 330
        }
      ]
    }
  ]
}